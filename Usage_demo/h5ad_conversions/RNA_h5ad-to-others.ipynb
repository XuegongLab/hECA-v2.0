{
 "cells": [
  {
   "cell_type": "markdown",
   "id": "391010de-567b-4cf1-881a-f66fef2dc866",
   "metadata": {},
   "source": [
    "# 1. To SingleCellExperiment"
   ]
  },
  {
   "cell_type": "markdown",
   "id": "2ddba7e5-e51f-4890-aec7-4d63786c5641",
   "metadata": {},
   "source": [
    "## load h5ad data"
   ]
  },
  {
   "cell_type": "code",
   "execution_count": 1,
   "id": "e12acb85-dc1a-4a5e-8dfc-d8f642a0cfc4",
   "metadata": {
    "tags": []
   },
   "outputs": [],
   "source": [
    "library(anndata)"
   ]
  },
  {
   "cell_type": "code",
   "execution_count": 2,
   "id": "772ff0a5-6f6a-410a-b111-4b8480fee70c",
   "metadata": {
    "tags": []
   },
   "outputs": [],
   "source": [
    "adata <- read_h5ad(\"./Placenta.h5ad\")"
   ]
  },
  {
   "cell_type": "code",
   "execution_count": 3,
   "id": "d4e265e8-5d9c-4f00-8158-f374a1954083",
   "metadata": {
    "tags": []
   },
   "outputs": [
    {
     "data": {
      "text/plain": [
       "AnnData object with n_obs × n_vars = 9845 × 42117\n",
       "    obs: 'cid', 'seq_tech', 'donor_ID', 'donor_gender', 'donor_age', 'donor_status', 'original_name', 'organ', 'region', 'subregion', 'sample_status', 'treatment', 'ethnicity', 'cell_type', 'cell_id', 'study_id', 'nCount_RNA', 'nFeature_RNA'\n",
       "    var: 'Gene_symbol', 'highly_variable', 'means', 'dispersions', 'dispersions_norm'\n",
       "    uns: 'cell_type_colors', 'hvg', 'study_id_colors'\n",
       "    obsm: 'X_scANVI_umap', 'X_umap'"
      ]
     },
     "metadata": {},
     "output_type": "display_data"
    }
   ],
   "source": [
    "adata"
   ]
  },
  {
   "cell_type": "markdown",
   "id": "b0a3e06e-70f6-4018-9d57-6315695bebc7",
   "metadata": {
    "tags": []
   },
   "source": [
    "## convert into SingleCellExperiment"
   ]
  },
  {
   "cell_type": "code",
   "execution_count": 4,
   "id": "645e708f-20f9-4fb3-8aef-74040412dd86",
   "metadata": {
    "collapsed": true,
    "jupyter": {
     "outputs_hidden": true
    },
    "tags": []
   },
   "outputs": [
    {
     "name": "stderr",
     "output_type": "stream",
     "text": [
      "Loading required package: SummarizedExperiment\n",
      "\n",
      "Loading required package: MatrixGenerics\n",
      "\n",
      "Loading required package: matrixStats\n",
      "\n",
      "\n",
      "Attaching package: ‘MatrixGenerics’\n",
      "\n",
      "\n",
      "The following objects are masked from ‘package:matrixStats’:\n",
      "\n",
      "    colAlls, colAnyNAs, colAnys, colAvgsPerRowSet, colCollapse,\n",
      "    colCounts, colCummaxs, colCummins, colCumprods, colCumsums,\n",
      "    colDiffs, colIQRDiffs, colIQRs, colLogSumExps, colMadDiffs,\n",
      "    colMads, colMaxs, colMeans2, colMedians, colMins, colOrderStats,\n",
      "    colProds, colQuantiles, colRanges, colRanks, colSdDiffs, colSds,\n",
      "    colSums2, colTabulates, colVarDiffs, colVars, colWeightedMads,\n",
      "    colWeightedMeans, colWeightedMedians, colWeightedSds,\n",
      "    colWeightedVars, rowAlls, rowAnyNAs, rowAnys, rowAvgsPerColSet,\n",
      "    rowCollapse, rowCounts, rowCummaxs, rowCummins, rowCumprods,\n",
      "    rowCumsums, rowDiffs, rowIQRDiffs, rowIQRs, rowLogSumExps,\n",
      "    rowMadDiffs, rowMads, rowMaxs, rowMeans2, rowMedians, rowMins,\n",
      "    rowOrderStats, rowProds, rowQuantiles, rowRanges, rowRanks,\n",
      "    rowSdDiffs, rowSds, rowSums2, rowTabulates, rowVarDiffs, rowVars,\n",
      "    rowWeightedMads, rowWeightedMeans, rowWeightedMedians,\n",
      "    rowWeightedSds, rowWeightedVars\n",
      "\n",
      "\n",
      "Loading required package: GenomicRanges\n",
      "\n",
      "Loading required package: stats4\n",
      "\n",
      "Loading required package: BiocGenerics\n",
      "\n",
      "\n",
      "Attaching package: ‘BiocGenerics’\n",
      "\n",
      "\n",
      "The following objects are masked from ‘package:stats’:\n",
      "\n",
      "    IQR, mad, sd, var, xtabs\n",
      "\n",
      "\n",
      "The following objects are masked from ‘package:base’:\n",
      "\n",
      "    anyDuplicated, aperm, append, as.data.frame, basename, cbind,\n",
      "    colnames, dirname, do.call, duplicated, eval, evalq, Filter, Find,\n",
      "    get, grep, grepl, intersect, is.unsorted, lapply, Map, mapply,\n",
      "    match, mget, order, paste, pmax, pmax.int, pmin, pmin.int,\n",
      "    Position, rank, rbind, Reduce, rownames, sapply, setdiff, sort,\n",
      "    table, tapply, union, unique, unsplit, which.max, which.min\n",
      "\n",
      "\n",
      "Loading required package: S4Vectors\n",
      "\n",
      "\n",
      "Attaching package: ‘S4Vectors’\n",
      "\n",
      "\n",
      "The following object is masked from ‘package:utils’:\n",
      "\n",
      "    findMatches\n",
      "\n",
      "\n",
      "The following objects are masked from ‘package:base’:\n",
      "\n",
      "    expand.grid, I, unname\n",
      "\n",
      "\n",
      "Loading required package: IRanges\n",
      "\n",
      "Loading required package: GenomeInfoDb\n",
      "\n",
      "Loading required package: Biobase\n",
      "\n",
      "Welcome to Bioconductor\n",
      "\n",
      "    Vignettes contain introductory material; view with\n",
      "    'browseVignettes()'. To cite Bioconductor, see\n",
      "    'citation(\"Biobase\")', and for packages 'citation(\"pkgname\")'.\n",
      "\n",
      "\n",
      "\n",
      "Attaching package: ‘Biobase’\n",
      "\n",
      "\n",
      "The following object is masked from ‘package:MatrixGenerics’:\n",
      "\n",
      "    rowMedians\n",
      "\n",
      "\n",
      "The following objects are masked from ‘package:matrixStats’:\n",
      "\n",
      "    anyMissing, rowMedians\n",
      "\n",
      "\n"
     ]
    }
   ],
   "source": [
    "library(SingleCellExperiment)"
   ]
  },
  {
   "cell_type": "code",
   "execution_count": 5,
   "id": "9e4e95f7-74e9-4ab0-bc65-ea9af30e2aaf",
   "metadata": {
    "tags": []
   },
   "outputs": [],
   "source": [
    "# create sce object\n",
    "mat <- t(adata$X) \n",
    "\n",
    "sce <- SingleCellExperiment(\n",
    "  assays = list(counts = mat),\n",
    "  colData = adata$obs,\n",
    "  rowData = adata$var\n",
    ")"
   ]
  },
  {
   "cell_type": "code",
   "execution_count": 6,
   "id": "75f92495-312b-4c2d-b50f-6e8b06e06ec2",
   "metadata": {
    "tags": []
   },
   "outputs": [],
   "source": [
    "# Add obsm data into reducedDims\n",
    "for (nm in names(adata$obsm)) {\n",
    "  mat <- adata$obsm[[nm]]\n",
    "  if (is.matrix(mat) || is.data.frame(mat)) {\n",
    "    reducedDims(sce)[[nm]] <- as.matrix(mat)\n",
    "  }\n",
    "}"
   ]
  },
  {
   "cell_type": "code",
   "execution_count": 7,
   "id": "2c766920-2bdc-4794-8b67-9ff900601bb0",
   "metadata": {
    "tags": []
   },
   "outputs": [
    {
     "data": {
      "text/plain": [
       "class: SingleCellExperiment \n",
       "dim: 42117 9845 \n",
       "metadata(0):\n",
       "assays(1): counts\n",
       "rownames(42117): A1BG A1BG-AS1 ... ZZEF1 ZZZ3\n",
       "rowData names(5): Gene_symbol highly_variable means dispersions\n",
       "  dispersions_norm\n",
       "colnames(9845): ChorionicVillus_1.ACCTGATACTTCCGTGGC_44\n",
       "  ChorionicVillus_1.TGATCAGGGTTTCGGCAG_44 ...\n",
       "  ChorionicVillus_1.CCGACGTCGTAAAAGCGG_44\n",
       "  ChorionicVillus_1.GAACGCTTCCGCAACCTA_44\n",
       "colData names(18): cid seq_tech ... nCount_RNA nFeature_RNA\n",
       "reducedDimNames(2): X_scANVI_umap X_umap\n",
       "mainExpName: NULL\n",
       "altExpNames(0):"
      ]
     },
     "metadata": {},
     "output_type": "display_data"
    }
   ],
   "source": [
    "sce"
   ]
  },
  {
   "cell_type": "markdown",
   "id": "6c5f5539-4f21-4649-a817-5c1a76fe185c",
   "metadata": {
    "tags": []
   },
   "source": [
    "## saving"
   ]
  },
  {
   "cell_type": "code",
   "execution_count": 8,
   "id": "860ad78a-3596-419b-ae75-98bb5b45de82",
   "metadata": {
    "tags": []
   },
   "outputs": [],
   "source": [
    "saveRDS(sce, file = \"./Placenta_SCE.rds\")"
   ]
  },
  {
   "cell_type": "markdown",
   "id": "5c8ce163-6f06-486e-b46b-c55eeb70c03c",
   "metadata": {},
   "source": [
    "# 2. To Seurat object"
   ]
  },
  {
   "cell_type": "markdown",
   "id": "46d70758-0ce7-4398-ae3a-85f5d3983555",
   "metadata": {},
   "source": [
    "## load h5ad data"
   ]
  },
  {
   "cell_type": "code",
   "execution_count": 1,
   "id": "9ec704a7-409d-47f4-96bc-14dda008c47a",
   "metadata": {
    "tags": []
   },
   "outputs": [],
   "source": [
    "library(anndata)"
   ]
  },
  {
   "cell_type": "code",
   "execution_count": 2,
   "id": "15aa46e1-a2d3-4116-aa7e-76b306a511f6",
   "metadata": {
    "tags": []
   },
   "outputs": [],
   "source": [
    "adata <- read_h5ad(\"./Placenta.h5ad\")"
   ]
  },
  {
   "cell_type": "code",
   "execution_count": 14,
   "id": "f3de47d6-9b28-4406-b0e4-55c1acdfb7b3",
   "metadata": {
    "tags": []
   },
   "outputs": [
    {
     "data": {
      "text/plain": [
       "AnnData object with n_obs × n_vars = 9845 × 42117\n",
       "    obs: 'cid', 'seq_tech', 'donor_ID', 'donor_gender', 'donor_age', 'donor_status', 'original_name', 'organ', 'region', 'subregion', 'sample_status', 'treatment', 'ethnicity', 'cell_type', 'cell_id', 'study_id', 'nCount_RNA', 'nFeature_RNA'\n",
       "    var: 'Gene_symbol', 'highly_variable', 'means', 'dispersions', 'dispersions_norm'\n",
       "    uns: 'cell_type_colors', 'hvg', 'study_id_colors'\n",
       "    obsm: 'X_scANVI_umap', 'X_umap'"
      ]
     },
     "metadata": {},
     "output_type": "display_data"
    }
   ],
   "source": [
    "adata"
   ]
  },
  {
   "cell_type": "markdown",
   "id": "27488477-6744-45f1-aa50-72395ba86880",
   "metadata": {
    "tags": []
   },
   "source": [
    "## convert into Seurat"
   ]
  },
  {
   "cell_type": "code",
   "execution_count": 15,
   "id": "94fbeaca-a14a-4093-bc66-06255414be0c",
   "metadata": {
    "tags": []
   },
   "outputs": [],
   "source": [
    "library(Seurat)"
   ]
  },
  {
   "cell_type": "code",
   "execution_count": null,
   "id": "d3a1a3bd-ca93-4d97-af56-61eaa7288c3e",
   "metadata": {
    "tags": []
   },
   "outputs": [],
   "source": [
    "# Get expression\n",
    "logmat <- t(adata$X)\n",
    "logmat <- as(logmat, \"dgCMatrix\")\n",
    "\n",
    "gene_names <- rownames(adata$var)\n",
    "rownames(logmat) <- gene_names\n",
    "\n",
    "cell_names <- rownames(adata$obs)\n",
    "colnames(logmat) <- cell_names\n",
    "# Get metadata\n",
    "meta.data <- as.data.frame(adata$obs)\n",
    "# Get gene information\n",
    "features <- as.data.frame(adata$var)\n",
    "\n",
    "# Create Seurat object\n",
    "seu <- CreateSeuratObject(counts = logmat,\n",
    "                          meta.data = meta.data)\n",
    "\n",
    "DefaultAssay(seu) <- \"RNA\"\n",
    "seu[[\"RNA\"]] <- SetAssayData(\n",
    "  object = seu[[\"RNA\"]],\n",
    "  slot = \"data\",\n",
    "  new.data = logmat\n",
    ")\n",
    "\n",
    "rownames(seu) <- rownames(features)"
   ]
  },
  {
   "cell_type": "code",
   "execution_count": 25,
   "id": "f981fe8e-aca6-49ac-8ce7-12ecbe1cdf02",
   "metadata": {
    "tags": []
   },
   "outputs": [
    {
     "name": "stderr",
     "output_type": "stream",
     "text": [
      "Warning message:\n",
      "“Keys should be one or more alphanumeric characters followed by an underscore, setting key from SCANVI_UMAP_ to SCANVIUMAP_”\n",
      "Warning message:\n",
      "“No columnames present in cell embeddings, setting to 'SCANVIUMAP_1:2'”\n",
      "Warning message:\n",
      "“No columnames present in cell embeddings, setting to 'UMAP_1:2'”\n"
     ]
    }
   ],
   "source": [
    "for (key in names(adata$obsm)) {\n",
    "    coords <- as.matrix(adata$obsm[[key]])\n",
    "    if (nrow(coords) == ncol(seu)) {  \n",
    "      rownames(coords) <- colnames(seu)\n",
    "        \n",
    "      red_name <- gsub(\"^X_\", \"\", key)\n",
    "      seu[[tolower(red_name)]] <- CreateDimReducObject(\n",
    "        embeddings = coords,\n",
    "        key = paste0(toupper(red_name), \"_\"),\n",
    "        assay = DefaultAssay(seu)\n",
    "      )\n",
    "    }\n",
    "  }"
   ]
  },
  {
   "cell_type": "code",
   "execution_count": 26,
   "id": "9b162a2b-792c-4182-9042-f583db8b6f28",
   "metadata": {
    "tags": []
   },
   "outputs": [
    {
     "data": {
      "text/plain": [
       "An object of class Seurat \n",
       "42117 features across 9845 samples within 1 assay \n",
       "Active assay: RNA (42117 features, 0 variable features)\n",
       " 2 layers present: counts, data\n",
       " 2 dimensional reductions calculated: scanvi_umap, umap"
      ]
     },
     "metadata": {},
     "output_type": "display_data"
    }
   ],
   "source": [
    "seu"
   ]
  },
  {
   "cell_type": "code",
   "execution_count": 27,
   "id": "72f00774-0800-48c5-9c3b-467131b09f07",
   "metadata": {
    "tags": []
   },
   "outputs": [],
   "source": [
    "saveRDS(seu, file = \"./Placenta_seurat.rds\")"
   ]
  },
  {
   "cell_type": "markdown",
   "id": "514ec3a2-56e2-4154-8883-9afe32c8d353",
   "metadata": {},
   "source": [
    "# 3. To loom"
   ]
  },
  {
   "cell_type": "markdown",
   "id": "5a3efebd-b091-48ef-bf79-432f1c01b19d",
   "metadata": {},
   "source": [
    "Use these codes in python"
   ]
  },
  {
   "cell_type": "code",
   "execution_count": null,
   "id": "85d487a6-cb9a-4205-a1ea-c4a8311ec0f9",
   "metadata": {},
   "outputs": [],
   "source": [
    "import scanpy as sc\n",
    "\n",
    "adata = sc.read_h5ad(\"./Placenta.h5ad\")\n",
    "adata.write_loom(\"./Placenta.loom\", write_obsm_varm=True)"
   ]
  }
 ],
 "metadata": {
  "kernelspec": {
   "display_name": "hECA2",
   "language": "R",
   "name": "heca2"
  },
  "language_info": {
   "codemirror_mode": "r",
   "file_extension": ".r",
   "mimetype": "text/x-r-source",
   "name": "R",
   "pygments_lexer": "r",
   "version": "4.3.1"
  }
 },
 "nbformat": 4,
 "nbformat_minor": 5
}
